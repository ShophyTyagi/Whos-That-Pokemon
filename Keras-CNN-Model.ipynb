{
 "cells": [
  {
   "cell_type": "markdown",
   "metadata": {},
   "source": [
    "# Image Classification with CNN + Keras "
   ]
  },
  {
   "cell_type": "code",
   "execution_count": 30,
   "metadata": {},
   "outputs": [],
   "source": [
    "# import the necessary packages\n",
    "from tensorflow.keras.preprocessing.image import ImageDataGenerator\n",
    "from tensorflow.keras.optimizers import Adam\n",
    "from tensorflow.keras.preprocessing.image import img_to_array\n",
    "from sklearn.preprocessing import LabelBinarizer\n",
    "from sklearn.model_selection import train_test_split\n",
    "from smallervggnet import SmallerVGGNet\n",
    "import matplotlib.pyplot as plt\n",
    "from imutils import paths\n",
    "import numpy as np\n",
    "import random\n",
    "import pickle\n",
    "import cv2\n",
    "import os"
   ]
  },
  {
   "cell_type": "code",
   "execution_count": 9,
   "metadata": {},
   "outputs": [
    {
     "name": "stdout",
     "output_type": "stream",
     "text": [
      "[INFO] loading images...\n"
     ]
    }
   ],
   "source": [
    "# initialize the number of epochs to train for, initial learning rate, batch size, and image dimensions\n",
    "EPOCHS = 100\n",
    "INIT_LR = 1e-3\n",
    "BS = 32\n",
    "IMAGE_DIMS = (96, 96, 3)\n",
    "# initialize the data and labels\n",
    "data = []\n",
    "labels = []\n",
    "# grab the image paths and randomly shuffle them\n",
    "print(\"[INFO] loading images...\")\n",
    "imagePaths = sorted(list(paths.list_images(\"dataset\")))\n",
    "random.seed(42)\n",
    "random.shuffle(imagePaths)"
   ]
  },
  {
   "cell_type": "markdown",
   "metadata": {},
   "source": [
    "# Data Preprocessing"
   ]
  },
  {
   "cell_type": "code",
   "execution_count": 10,
   "metadata": {},
   "outputs": [],
   "source": [
    "# loop over the input images\n",
    "for imagePath in imagePaths:\n",
    "    # load the image, pre-process it, and store it in the data list\n",
    "    image = cv2.imread(imagePath)\n",
    "    image = cv2.resize(image, (IMAGE_DIMS[1], IMAGE_DIMS[0]))\n",
    "    image = img_to_array(image)\n",
    "    data.append(image)\n",
    "    \n",
    "    # extract the class label from the image path and update the labels list\n",
    "    # the files are stored as dataset/{CLASS_LABEL}/{FILENAME}.jpg => split will convert it to an array and the 2nd last element will be our filename\n",
    "    label = imagePath.split(os.path.sep)[-2]\n",
    "    labels.append(label)"
   ]
  },
  {
   "cell_type": "code",
   "execution_count": 11,
   "metadata": {},
   "outputs": [
    {
     "name": "stdout",
     "output_type": "stream",
     "text": [
      "[INFO] data matrix: 251.86MB\n"
     ]
    }
   ],
   "source": [
    "# scale the raw pixel intensities to the range [0, 1]\n",
    "data = np.array(data, dtype=\"float\") / 255.0\n",
    "labels = np.array(labels)\n",
    "print(\"[INFO] data matrix: {:.2f}MB\".format(data.nbytes / (1024 * 1000.0)))\n",
    "# binarize the labels\n",
    "lb = LabelBinarizer()\n",
    "labels = lb.fit_transform(labels)\n",
    "# partition the data into training and testing splits using 80% of the data for training and the remaining 20% for testing\n",
    "(trainX, testX, trainY, testY) = train_test_split(data, labels, test_size=0.2, random_state=42)"
   ]
  },
  {
   "cell_type": "markdown",
   "metadata": {},
   "source": [
    "# Image Data Augmentation\n",
    "Data augmentation is a technique used to take existing images in our dataset and apply random transformations (rotations, shearing, etc.) to generate additional training data.\n",
    "Data augmentation helps prevent overfitting.\n",
    "Since we’re working with a limited amount of data points (< 250 images per class), we can make use of data augmentation during the training process to give our model more images (based on existing images) to train with."
   ]
  },
  {
   "cell_type": "code",
   "execution_count": 12,
   "metadata": {},
   "outputs": [],
   "source": [
    "# construct the image generator for data augmentation\n",
    "aug = ImageDataGenerator(rotation_range=25, width_shift_range=0.1,\n",
    "    height_shift_range=0.1, shear_range=0.2, zoom_range=0.2,\n",
    "    horizontal_flip=True, fill_mode=\"nearest\")"
   ]
  },
  {
   "cell_type": "markdown",
   "metadata": {},
   "source": [
    "# Compiling and Training the Model"
   ]
  },
  {
   "cell_type": "code",
   "execution_count": 13,
   "metadata": {},
   "outputs": [
    {
     "name": "stdout",
     "output_type": "stream",
     "text": [
      "[INFO] compiling model...\n"
     ]
    }
   ],
   "source": [
    "# initialize the model\n",
    "print(\"[INFO] compiling model...\")\n",
    "model = SmallerVGGNet.build(width=IMAGE_DIMS[1], height=IMAGE_DIMS[0],\n",
    "    depth=IMAGE_DIMS[2], classes=len(lb.classes_))\n",
    "opt = Adam(lr=INIT_LR, decay=INIT_LR / EPOCHS)\n",
    "model.compile(loss=\"categorical_crossentropy\", optimizer=opt,\n",
    "    metrics=[\"accuracy\"])"
   ]
  },
  {
   "cell_type": "code",
   "execution_count": 14,
   "metadata": {},
   "outputs": [
    {
     "name": "stdout",
     "output_type": "stream",
     "text": [
      "[INFO] training model...\n",
      "Epoch 1/100\n",
      "29/29 [==============================] - 9s 295ms/step - loss: 1.4768 - accuracy: 0.5873 - val_loss: 1.9699 - val_accuracy: 0.1752\n",
      "Epoch 2/100\n",
      "29/29 [==============================] - 11s 372ms/step - loss: 0.9757 - accuracy: 0.7156 - val_loss: 1.4620 - val_accuracy: 0.3974\n",
      "Epoch 3/100\n",
      "29/29 [==============================] - 13s 440ms/step - loss: 0.7594 - accuracy: 0.7611 - val_loss: 1.3420 - val_accuracy: 0.4872\n",
      "Epoch 4/100\n",
      "29/29 [==============================] - 13s 448ms/step - loss: 0.6421 - accuracy: 0.8067 - val_loss: 1.7318 - val_accuracy: 0.2393\n",
      "Epoch 5/100\n",
      "29/29 [==============================] - 12s 410ms/step - loss: 0.7162 - accuracy: 0.7878 - val_loss: 1.2432 - val_accuracy: 0.5598\n",
      "Epoch 6/100\n",
      "29/29 [==============================] - 12s 413ms/step - loss: 0.6090 - accuracy: 0.8267 - val_loss: 0.9087 - val_accuracy: 0.6752\n",
      "Epoch 7/100\n",
      "29/29 [==============================] - 12s 415ms/step - loss: 0.4293 - accuracy: 0.8633 - val_loss: 0.9534 - val_accuracy: 0.6325\n",
      "Epoch 8/100\n",
      "29/29 [==============================] - 12s 417ms/step - loss: 0.5657 - accuracy: 0.8300 - val_loss: 1.2121 - val_accuracy: 0.5983\n",
      "Epoch 9/100\n",
      "29/29 [==============================] - 13s 444ms/step - loss: 0.4854 - accuracy: 0.8478 - val_loss: 0.6715 - val_accuracy: 0.7521\n",
      "Epoch 10/100\n",
      "29/29 [==============================] - 13s 440ms/step - loss: 0.4724 - accuracy: 0.8578 - val_loss: 0.9597 - val_accuracy: 0.6667\n",
      "Epoch 11/100\n",
      "29/29 [==============================] - 12s 413ms/step - loss: 0.4543 - accuracy: 0.8633 - val_loss: 1.2809 - val_accuracy: 0.6496\n",
      "Epoch 12/100\n",
      "29/29 [==============================] - 12s 410ms/step - loss: 0.4323 - accuracy: 0.8644 - val_loss: 0.7153 - val_accuracy: 0.7393\n",
      "Epoch 13/100\n",
      "29/29 [==============================] - 12s 410ms/step - loss: 0.4946 - accuracy: 0.8433 - val_loss: 0.6149 - val_accuracy: 0.7906\n",
      "Epoch 14/100\n",
      "29/29 [==============================] - 12s 411ms/step - loss: 0.4094 - accuracy: 0.8700 - val_loss: 0.7500 - val_accuracy: 0.7479\n",
      "Epoch 15/100\n",
      "29/29 [==============================] - 12s 409ms/step - loss: 0.3221 - accuracy: 0.8856 - val_loss: 0.9053 - val_accuracy: 0.7692\n",
      "Epoch 16/100\n",
      "29/29 [==============================] - 12s 409ms/step - loss: 0.4552 - accuracy: 0.8611 - val_loss: 0.7105 - val_accuracy: 0.7650\n",
      "Epoch 17/100\n",
      "29/29 [==============================] - 12s 417ms/step - loss: 0.4375 - accuracy: 0.8633 - val_loss: 1.4888 - val_accuracy: 0.7009\n",
      "Epoch 18/100\n",
      "29/29 [==============================] - 13s 434ms/step - loss: 0.3746 - accuracy: 0.8856 - val_loss: 0.5406 - val_accuracy: 0.8291\n",
      "Epoch 19/100\n",
      "29/29 [==============================] - 12s 416ms/step - loss: 0.3271 - accuracy: 0.8922 - val_loss: 0.3699 - val_accuracy: 0.8974\n",
      "Epoch 20/100\n",
      "29/29 [==============================] - 12s 419ms/step - loss: 0.2797 - accuracy: 0.9067 - val_loss: 0.5623 - val_accuracy: 0.8632\n",
      "Epoch 21/100\n",
      "29/29 [==============================] - 12s 411ms/step - loss: 0.3120 - accuracy: 0.9044 - val_loss: 0.3231 - val_accuracy: 0.8974\n",
      "Epoch 22/100\n",
      "29/29 [==============================] - 12s 413ms/step - loss: 0.3343 - accuracy: 0.8978 - val_loss: 0.7699 - val_accuracy: 0.8248\n",
      "Epoch 23/100\n",
      "29/29 [==============================] - 12s 408ms/step - loss: 0.2988 - accuracy: 0.9067 - val_loss: 0.4839 - val_accuracy: 0.8718\n",
      "Epoch 24/100\n",
      "29/29 [==============================] - 12s 413ms/step - loss: 0.2792 - accuracy: 0.9156 - val_loss: 0.4166 - val_accuracy: 0.8803\n",
      "Epoch 25/100\n",
      "29/29 [==============================] - 12s 413ms/step - loss: 0.2722 - accuracy: 0.9033 - val_loss: 0.9768 - val_accuracy: 0.8120\n",
      "Epoch 26/100\n",
      "29/29 [==============================] - 13s 434ms/step - loss: 0.3581 - accuracy: 0.9033 - val_loss: 1.9494 - val_accuracy: 0.6667\n",
      "Epoch 27/100\n",
      "29/29 [==============================] - 14s 474ms/step - loss: 0.3987 - accuracy: 0.8644 - val_loss: 0.4118 - val_accuracy: 0.8761\n",
      "Epoch 28/100\n",
      "29/29 [==============================] - 13s 460ms/step - loss: 0.3174 - accuracy: 0.8922 - val_loss: 0.4497 - val_accuracy: 0.8889\n",
      "Epoch 29/100\n",
      "29/29 [==============================] - 12s 427ms/step - loss: 0.2891 - accuracy: 0.9167 - val_loss: 0.4041 - val_accuracy: 0.9017\n",
      "Epoch 30/100\n",
      "29/29 [==============================] - 12s 415ms/step - loss: 0.2805 - accuracy: 0.9033 - val_loss: 0.4344 - val_accuracy: 0.8932\n",
      "Epoch 31/100\n",
      "29/29 [==============================] - 12s 418ms/step - loss: 0.2737 - accuracy: 0.9030 - val_loss: 0.3718 - val_accuracy: 0.9017\n",
      "Epoch 32/100\n",
      "29/29 [==============================] - 13s 432ms/step - loss: 0.2694 - accuracy: 0.9133 - val_loss: 0.2459 - val_accuracy: 0.9017\n",
      "Epoch 33/100\n",
      "29/29 [==============================] - 12s 416ms/step - loss: 0.1683 - accuracy: 0.9333 - val_loss: 0.2810 - val_accuracy: 0.9145\n",
      "Epoch 34/100\n",
      "29/29 [==============================] - 12s 410ms/step - loss: 0.1954 - accuracy: 0.9344 - val_loss: 0.4690 - val_accuracy: 0.8846\n",
      "Epoch 35/100\n",
      "29/29 [==============================] - 12s 409ms/step - loss: 0.1897 - accuracy: 0.9333 - val_loss: 0.4591 - val_accuracy: 0.8547\n",
      "Epoch 36/100\n",
      "29/29 [==============================] - 12s 421ms/step - loss: 0.2373 - accuracy: 0.9111 - val_loss: 0.4240 - val_accuracy: 0.8632\n",
      "Epoch 37/100\n",
      "29/29 [==============================] - 12s 424ms/step - loss: 0.1784 - accuracy: 0.9389 - val_loss: 0.9984 - val_accuracy: 0.8248\n",
      "Epoch 38/100\n",
      "29/29 [==============================] - 12s 429ms/step - loss: 0.2128 - accuracy: 0.9256 - val_loss: 0.3926 - val_accuracy: 0.8974\n",
      "Epoch 39/100\n",
      "29/29 [==============================] - 12s 409ms/step - loss: 0.2652 - accuracy: 0.9111 - val_loss: 0.8066 - val_accuracy: 0.7991\n",
      "Epoch 40/100\n",
      "29/29 [==============================] - 12s 410ms/step - loss: 0.2345 - accuracy: 0.9278 - val_loss: 0.4560 - val_accuracy: 0.8590\n",
      "Epoch 41/100\n",
      "29/29 [==============================] - 12s 423ms/step - loss: 0.3827 - accuracy: 0.8778 - val_loss: 2.9199 - val_accuracy: 0.5897\n",
      "Epoch 42/100\n",
      "29/29 [==============================] - 12s 418ms/step - loss: 0.4072 - accuracy: 0.8756 - val_loss: 0.8497 - val_accuracy: 0.7735\n",
      "Epoch 43/100\n",
      "29/29 [==============================] - 12s 415ms/step - loss: 0.2902 - accuracy: 0.9067 - val_loss: 0.5119 - val_accuracy: 0.8419\n",
      "Epoch 44/100\n",
      "29/29 [==============================] - 12s 416ms/step - loss: 0.3308 - accuracy: 0.9122 - val_loss: 0.3525 - val_accuracy: 0.8932\n",
      "Epoch 45/100\n",
      "29/29 [==============================] - 12s 414ms/step - loss: 0.3051 - accuracy: 0.8911 - val_loss: 0.6347 - val_accuracy: 0.8120\n",
      "Epoch 46/100\n",
      "29/29 [==============================] - 12s 417ms/step - loss: 0.3536 - accuracy: 0.8733 - val_loss: 0.4479 - val_accuracy: 0.8846\n",
      "Epoch 47/100\n",
      "29/29 [==============================] - 12s 426ms/step - loss: 0.2900 - accuracy: 0.9167 - val_loss: 0.9382 - val_accuracy: 0.8077\n",
      "Epoch 48/100\n",
      "29/29 [==============================] - 12s 415ms/step - loss: 0.2817 - accuracy: 0.9067 - val_loss: 0.5200 - val_accuracy: 0.8718\n",
      "Epoch 49/100\n",
      "29/29 [==============================] - 12s 417ms/step - loss: 0.2427 - accuracy: 0.9211 - val_loss: 0.4737 - val_accuracy: 0.8718\n",
      "Epoch 50/100\n",
      "29/29 [==============================] - 12s 420ms/step - loss: 0.2128 - accuracy: 0.9244 - val_loss: 0.7172 - val_accuracy: 0.8419\n",
      "Epoch 51/100\n",
      "29/29 [==============================] - 12s 420ms/step - loss: 0.2470 - accuracy: 0.9233 - val_loss: 0.4305 - val_accuracy: 0.8846\n",
      "Epoch 52/100\n",
      "29/29 [==============================] - 13s 454ms/step - loss: 0.2391 - accuracy: 0.9300 - val_loss: 0.4991 - val_accuracy: 0.8632\n",
      "Epoch 53/100\n",
      "29/29 [==============================] - 12s 417ms/step - loss: 0.2085 - accuracy: 0.9211 - val_loss: 0.6007 - val_accuracy: 0.8504\n",
      "Epoch 54/100\n",
      "29/29 [==============================] - 12s 431ms/step - loss: 0.2102 - accuracy: 0.9256 - val_loss: 0.4349 - val_accuracy: 0.8761\n",
      "Epoch 55/100\n",
      "29/29 [==============================] - 13s 433ms/step - loss: 0.2098 - accuracy: 0.9278 - val_loss: 0.4901 - val_accuracy: 0.8419\n",
      "Epoch 56/100\n",
      "29/29 [==============================] - 13s 435ms/step - loss: 0.2441 - accuracy: 0.9189 - val_loss: 1.7221 - val_accuracy: 0.7265\n",
      "Epoch 57/100\n",
      "29/29 [==============================] - 13s 443ms/step - loss: 0.4244 - accuracy: 0.8622 - val_loss: 2.4568 - val_accuracy: 0.5940\n",
      "Epoch 58/100\n",
      "29/29 [==============================] - 12s 430ms/step - loss: 0.3647 - accuracy: 0.8822 - val_loss: 1.1813 - val_accuracy: 0.7564\n",
      "Epoch 59/100\n",
      "29/29 [==============================] - 13s 436ms/step - loss: 0.3222 - accuracy: 0.8978 - val_loss: 0.3874 - val_accuracy: 0.8718\n",
      "Epoch 60/100\n",
      "29/29 [==============================] - 12s 427ms/step - loss: 0.2567 - accuracy: 0.9222 - val_loss: 0.4110 - val_accuracy: 0.8590\n",
      "Epoch 61/100\n",
      "29/29 [==============================] - 13s 438ms/step - loss: 0.2848 - accuracy: 0.9009 - val_loss: 0.3792 - val_accuracy: 0.8974\n",
      "Epoch 62/100\n",
      "29/29 [==============================] - 13s 431ms/step - loss: 0.2112 - accuracy: 0.9322 - val_loss: 0.5608 - val_accuracy: 0.8547\n",
      "Epoch 63/100\n",
      "29/29 [==============================] - 13s 446ms/step - loss: 0.2229 - accuracy: 0.9178 - val_loss: 0.6614 - val_accuracy: 0.8462\n",
      "Epoch 64/100\n",
      "29/29 [==============================] - 13s 449ms/step - loss: 0.2054 - accuracy: 0.9278 - val_loss: 0.4173 - val_accuracy: 0.8590\n",
      "Epoch 65/100\n",
      "29/29 [==============================] - 13s 448ms/step - loss: 0.2044 - accuracy: 0.9222 - val_loss: 0.3601 - val_accuracy: 0.9060\n",
      "Epoch 66/100\n",
      "29/29 [==============================] - 12s 419ms/step - loss: 0.2549 - accuracy: 0.9156 - val_loss: 0.3978 - val_accuracy: 0.8889\n",
      "Epoch 67/100\n",
      "29/29 [==============================] - 12s 418ms/step - loss: 0.1739 - accuracy: 0.9389 - val_loss: 0.7184 - val_accuracy: 0.8419\n",
      "Epoch 68/100\n",
      "29/29 [==============================] - 12s 418ms/step - loss: 0.2343 - accuracy: 0.9322 - val_loss: 0.5906 - val_accuracy: 0.8291\n",
      "Epoch 69/100\n",
      "29/29 [==============================] - 12s 415ms/step - loss: 0.1468 - accuracy: 0.9489 - val_loss: 0.4896 - val_accuracy: 0.8803\n",
      "Epoch 70/100\n",
      "29/29 [==============================] - 12s 418ms/step - loss: 0.3014 - accuracy: 0.9100 - val_loss: 0.3881 - val_accuracy: 0.8846\n",
      "Epoch 71/100\n",
      "29/29 [==============================] - 12s 415ms/step - loss: 0.2873 - accuracy: 0.9056 - val_loss: 0.9510 - val_accuracy: 0.7607\n",
      "Epoch 72/100\n",
      "29/29 [==============================] - 12s 419ms/step - loss: 0.2485 - accuracy: 0.9200 - val_loss: 0.5414 - val_accuracy: 0.8590\n",
      "Epoch 73/100\n",
      "29/29 [==============================] - 12s 419ms/step - loss: 0.1995 - accuracy: 0.9344 - val_loss: 0.3797 - val_accuracy: 0.9188\n",
      "Epoch 74/100\n",
      "29/29 [==============================] - 12s 427ms/step - loss: 0.2348 - accuracy: 0.9311 - val_loss: 0.6265 - val_accuracy: 0.8718\n",
      "Epoch 75/100\n",
      "29/29 [==============================] - 12s 419ms/step - loss: 0.1832 - accuracy: 0.9433 - val_loss: 0.5756 - val_accuracy: 0.8803\n",
      "Epoch 76/100\n",
      "29/29 [==============================] - 12s 421ms/step - loss: 0.2045 - accuracy: 0.9344 - val_loss: 0.5017 - val_accuracy: 0.8761\n",
      "Epoch 77/100\n",
      "29/29 [==============================] - 12s 419ms/step - loss: 0.1476 - accuracy: 0.9533 - val_loss: 0.3079 - val_accuracy: 0.9274\n",
      "Epoch 78/100\n",
      "29/29 [==============================] - 12s 417ms/step - loss: 0.2218 - accuracy: 0.9222 - val_loss: 0.5342 - val_accuracy: 0.8590\n",
      "Epoch 79/100\n",
      "29/29 [==============================] - 12s 418ms/step - loss: 0.1898 - accuracy: 0.9289 - val_loss: 0.6684 - val_accuracy: 0.8590\n",
      "Epoch 80/100\n",
      "29/29 [==============================] - 12s 419ms/step - loss: 0.1915 - accuracy: 0.9289 - val_loss: 0.4708 - val_accuracy: 0.8761\n",
      "Epoch 81/100\n",
      "29/29 [==============================] - 12s 417ms/step - loss: 0.1991 - accuracy: 0.9322 - val_loss: 1.7710 - val_accuracy: 0.7265\n",
      "Epoch 82/100\n",
      "29/29 [==============================] - 12s 423ms/step - loss: 0.2333 - accuracy: 0.9233 - val_loss: 1.6664 - val_accuracy: 0.7051\n",
      "Epoch 83/100\n",
      "29/29 [==============================] - 12s 418ms/step - loss: 0.2518 - accuracy: 0.9278 - val_loss: 1.0673 - val_accuracy: 0.7863\n",
      "Epoch 84/100\n",
      "29/29 [==============================] - 12s 419ms/step - loss: 0.1499 - accuracy: 0.9533 - val_loss: 0.5039 - val_accuracy: 0.8632\n",
      "Epoch 85/100\n",
      "29/29 [==============================] - 12s 424ms/step - loss: 0.1215 - accuracy: 0.9600 - val_loss: 0.4806 - val_accuracy: 0.9017\n",
      "Epoch 86/100\n",
      "29/29 [==============================] - 12s 427ms/step - loss: 0.1374 - accuracy: 0.9556 - val_loss: 0.3596 - val_accuracy: 0.9103\n",
      "Epoch 87/100\n",
      "29/29 [==============================] - 13s 453ms/step - loss: 0.1819 - accuracy: 0.9422 - val_loss: 0.4116 - val_accuracy: 0.9188\n",
      "Epoch 88/100\n",
      "29/29 [==============================] - 12s 430ms/step - loss: 0.1339 - accuracy: 0.9522 - val_loss: 0.3833 - val_accuracy: 0.9017\n",
      "Epoch 89/100\n",
      "29/29 [==============================] - 13s 432ms/step - loss: 0.1654 - accuracy: 0.9422 - val_loss: 0.5020 - val_accuracy: 0.8675\n",
      "Epoch 90/100\n",
      "29/29 [==============================] - 12s 423ms/step - loss: 0.1927 - accuracy: 0.9411 - val_loss: 0.3090 - val_accuracy: 0.9188\n",
      "Epoch 91/100\n",
      "29/29 [==============================] - 16s 542ms/step - loss: 0.1471 - accuracy: 0.9537 - val_loss: 0.2906 - val_accuracy: 0.9359\n",
      "Epoch 92/100\n",
      "29/29 [==============================] - 13s 452ms/step - loss: 0.1864 - accuracy: 0.9433 - val_loss: 0.3146 - val_accuracy: 0.8889\n",
      "Epoch 93/100\n",
      "29/29 [==============================] - 14s 475ms/step - loss: 0.2176 - accuracy: 0.9289 - val_loss: 0.9605 - val_accuracy: 0.7735\n",
      "Epoch 94/100\n",
      "29/29 [==============================] - 13s 465ms/step - loss: 0.1665 - accuracy: 0.9444 - val_loss: 0.5830 - val_accuracy: 0.8162\n",
      "Epoch 95/100\n",
      "29/29 [==============================] - 12s 425ms/step - loss: 0.1274 - accuracy: 0.9600 - val_loss: 0.8334 - val_accuracy: 0.7949\n",
      "Epoch 96/100\n",
      "29/29 [==============================] - 12s 412ms/step - loss: 0.1153 - accuracy: 0.9556 - val_loss: 0.2931 - val_accuracy: 0.9060\n",
      "Epoch 97/100\n",
      "29/29 [==============================] - 12s 418ms/step - loss: 0.2341 - accuracy: 0.9367 - val_loss: 0.6977 - val_accuracy: 0.8162\n",
      "Epoch 98/100\n",
      "29/29 [==============================] - 12s 417ms/step - loss: 0.1387 - accuracy: 0.9489 - val_loss: 0.4576 - val_accuracy: 0.8974\n",
      "Epoch 99/100\n",
      "29/29 [==============================] - 12s 414ms/step - loss: 0.1591 - accuracy: 0.9500 - val_loss: 0.2863 - val_accuracy: 0.8889\n",
      "Epoch 100/100\n",
      "29/29 [==============================] - 12s 415ms/step - loss: 0.2580 - accuracy: 0.9178 - val_loss: 1.0027 - val_accuracy: 0.7949\n"
     ]
    }
   ],
   "source": [
    "# train the network\n",
    "print(\"[INFO] training model...\")\n",
    "H = model.fit(\n",
    "    x=aug.flow(trainX, trainY, batch_size=BS),\n",
    "    validation_data=(testX, testY),\n",
    "    steps_per_epoch=len(trainX) // BS,\n",
    "    epochs=EPOCHS, verbose=1)"
   ]
  },
  {
   "cell_type": "code",
   "execution_count": 16,
   "metadata": {},
   "outputs": [
    {
     "name": "stdout",
     "output_type": "stream",
     "text": [
      "[INFO] serializing model...\n",
      "[INFO] serializing label binarizer...\n"
     ]
    }
   ],
   "source": [
    "# save the model to disk\n",
    "print(\"[INFO] serializing model...\")\n",
    "model.save(\"pokemon-classifier\", save_format=\"h5\")\n",
    "# save the label binarizer to disk\n",
    "print(\"[INFO] serializing label binarizer...\")\n",
    "f = open(\"labels\", \"wb\")\n",
    "f.write(pickle.dumps(lb))\n",
    "f.close()"
   ]
  },
  {
   "cell_type": "markdown",
   "metadata": {},
   "source": [
    "# Plotting Training-Loss and Accuracy"
   ]
  },
  {
   "cell_type": "code",
   "execution_count": 45,
   "metadata": {},
   "outputs": [
    {
     "data": {
      "image/png": "[encoded data removed]",
      "text/plain": [
       "<Figure size 432x288 with 1 Axes>"
      ]
     },
     "metadata": {},
     "output_type": "display_data"
    }
   ],
   "source": [
    "%matplotlib inline\n",
    "\n",
    "plt.style.use(\"ggplot\")\n",
    "plt.figure()\n",
    "N = EPOCHS\n",
    "plt.plot(np.arange(0, N), H.history[\"loss\"], label=\"train_loss\")\n",
    "plt.plot(np.arange(0, N), H.history[\"val_loss\"], label=\"val_loss\")\n",
    "plt.plot(np.arange(0, N), H.history[\"accuracy\"], label=\"train_acc\")\n",
    "plt.plot(np.arange(0, N), H.history[\"val_accuracy\"], label=\"val_acc\")\n",
    "plt.title(\"Training Loss and Accuracy\")\n",
    "plt.xlabel(\"Epoch #\")\n",
    "plt.ylabel(\"Loss/Accuracy\")\n",
    "plt.legend(loc=\"upper left\")\n",
    "plt.show()"
   ]
  }
 ],
 "metadata": {
  "kernelspec": {
   "display_name": "Python 3",
   "language": "python",
   "name": "python3"
  },
  "language_info": {
   "codemirror_mode": {
    "name": "ipython",
    "version": 3
   },
   "file_extension": ".py",
   "mimetype": "text/x-python",
   "name": "python",
   "nbconvert_exporter": "python",
   "pygments_lexer": "ipython3",
   "version": "3.8.3"
  }
 },
 "nbformat": 4,
 "nbformat_minor": 4
}
